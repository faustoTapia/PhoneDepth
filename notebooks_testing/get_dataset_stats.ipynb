{
 "cells": [
  {
   "cell_type": "code",
   "execution_count": 1,
   "metadata": {},
   "outputs": [
    {
     "name": "stderr",
     "output_type": "stream",
     "text": [
      "2021-12-12 13:00:09.792297: I tensorflow/stream_executor/platform/default/dso_loader.cc:49] Successfully opened dynamic library libcudart.so.10.1\n"
     ]
    }
   ],
   "source": [
    "import sys\n",
    "sys.path.append('../')\n",
    "from dataset_utils.phoneDepth_utils import load_data_list_from_file, IOModes\n",
    "from PIL import Image\n",
    "import numpy as np\n",
    "from tqdm import tqdm"
   ]
  },
  {
   "cell_type": "code",
   "execution_count": 17,
   "metadata": {},
   "outputs": [
    {
     "name": "stderr",
     "output_type": "stream",
     "text": [
      "100%|██████████| 6035/6035 [04:22<00:00, 22.99it/s]\n"
     ]
    }
   ],
   "source": [
    "dataset_path = '/srv/beegfs02/scratch/efficient_nn_mobile/data/FTDataset'\n",
    "file_path_train = dataset_path + '/train_list.json'\n",
    "file_path_val = dataset_path + '/validation_list.json'\n",
    "file_path_test = dataset_path + '/test_list.json'\n",
    "\n",
    "io_mode = IOModes.IMG2DEPTH_CONF\n",
    "data_lists_train = load_data_list_from_file(file_path_train, io_mode=io_mode)\n",
    "data_lists_val =  load_data_list_from_file(file_path_val, io_mode=io_mode)\n",
    "data_lists_test = load_data_list_from_file(file_path_test, io_mode=io_mode)\n",
    "\n",
    "confidence_imgs = data_lists_train[2] + data_lists_val[2] +  data_lists_test[2]\n",
    "\n",
    "mins = []\n",
    "maxs = []\n",
    "\n",
    "avgs = []\n",
    "bins = 20\n",
    "hist_range = (0, 146)\n",
    "histogram, histogram_edges = np.histogram([], bins=bins, range=hist_range)\n",
    "\n",
    "for img_name in tqdm(confidence_imgs):\n",
    "    # print(\"Image: \" + img_name)\n",
    "    img = Image.open(img_name)\n",
    "    img_np = np.array(img)\n",
    "    mins.append(img_np.min())\n",
    "    maxs.append(img_np.max())\n",
    "    avgs.append(img_np.mean())\n",
    "    curr_img_hist, curr_hist_edgs = np.histogram(img_np, bins=bins, range=hist_range)\n",
    "    histogram = histogram + curr_img_hist\n"
   ]
  },
  {
   "cell_type": "code",
   "execution_count": 24,
   "metadata": {},
   "outputs": [
    {
     "name": "stdout",
     "output_type": "stream",
     "text": [
      "Histogram: \n",
      "[0.04928355 0.02117409 0.01592476 0.0152383  0.01180832 0.0109603\n",
      " 0.01191484 0.01020097 0.01023682 0.01047374 0.01254502 0.01173993\n",
      " 0.01280704 0.01649581 0.01679008 0.02012005 0.02968244 0.0370792\n",
      " 0.06331459 0.61221015]\n",
      "Histogram edges: \n",
      "[  0.    7.3  14.6  21.9  29.2  36.5  43.8  51.1  58.4  65.7  73.   80.3\n",
      "  87.6  94.9 102.2 109.5 116.8 124.1 131.4 138.7 146. ]\n"
     ]
    },
    {
     "data": {
      "text/plain": [
       "0.38778985000690414"
      ]
     },
     "execution_count": 24,
     "metadata": {},
     "output_type": "execute_result"
    }
   ],
   "source": [
    "len(mins)\n",
    "len(maxs)\n",
    "len(avgs)\n",
    "min(mins)\n",
    "# max(maxs)\n",
    "# sum(maxs) / len(maxs)\n",
    "# min(maxs)\n",
    "# np.histogram(maxs, 20, range=(0,146))\n",
    "# sum(avgs) / len(avgs)\n",
    "histogram_norm = histogram / (6035*960*720)\n",
    "print(\"Histogram: \")\n",
    "print(histogram_norm)\n",
    "print(\"Histogram edges: \")\n",
    "print(histogram_edges)\n",
    "sum(histogram_norm)\n",
    "sum(histogram_norm[:-1])\n"
   ]
  }
 ],
 "metadata": {
  "interpreter": {
   "hash": "fb69225fb948715168fa792c0021e5840f68c9a1192016715b848f7eea7da002"
  },
  "kernelspec": {
   "display_name": "Python 3.8.11 64-bit ('tf241n': conda)",
   "language": "python",
   "name": "python3"
  },
  "language_info": {
   "codemirror_mode": {
    "name": "ipython",
    "version": 3
   },
   "file_extension": ".py",
   "mimetype": "text/x-python",
   "name": "python",
   "nbconvert_exporter": "python",
   "pygments_lexer": "ipython3",
   "version": "3.8.11"
  },
  "orig_nbformat": 4
 },
 "nbformat": 4,
 "nbformat_minor": 2
}
